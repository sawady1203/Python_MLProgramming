{
 "cells": [
  {
   "cell_type": "markdown",
   "metadata": {},
   "source": [
    "# Scikit-learnの活用"
   ]
  },
  {
   "cell_type": "code",
   "execution_count": 36,
   "metadata": {},
   "outputs": [
    {
     "name": "stdout",
     "output_type": "stream",
     "text": [
      "Class labels: [0 1 2]\n"
     ]
    }
   ],
   "source": [
    "from sklearn import datasets\n",
    "import numpy as np\n",
    "# Irisのデータセットをロード\n",
    "iris = datasets.load_iris()\n",
    "# 3,4列目の特徴量を抽出\n",
    "X = iris.data[:, [2, 3]]\n",
    "# クラスラベルを取得\n",
    "y = iris.target\n",
    "# 一意なクラスラベルを出力\n",
    "print('Class labels:', np.unique(y))"
   ]
  },
  {
   "cell_type": "code",
   "execution_count": 37,
   "metadata": {
    "collapsed": true
   },
   "outputs": [],
   "source": [
    "# データをさらにトレーニングデータとテストデータに分割する\n",
    "from sklearn.model_selection import train_test_split\n",
    "# 全体の30％をテストデータにする\n",
    "X_train, X_test, y_train, y_test = train_test_split(X, y, test_size = 0.3, random_state = 1, stratify=y)"
   ]
  },
  {
   "cell_type": "markdown",
   "metadata": {},
   "source": [
    "** train_test_splitについて **\n",
    "\n",
    "train_test_splitはデータセットを分割する前に内部でシャッフルする。\n",
    "\n",
    "乱数シードは**random_state**で指定する。これは分割する前のシャッフルに使用される。\n",
    "\n",
    "**random_state**パラメータに固定の値を指定すると、シャッフルの仕方が同じになるので再現可能な結果が得られるようになる。"
   ]
  },
  {
   "cell_type": "markdown",
   "metadata": {},
   "source": [
    "** staratify = y **について\n",
    "組み込み機能としてサポートされちえる層化サンプリングを利用している。\n",
    "train_test_splitから返されるトレーニングセットとテストセットに含まれているクラスラベルの比率が入力データセットと同じであることを意味する。\n",
    "クラスラベルの偏りをなくしてトレーニングセットとテストセットに分けてくれる。\n",
    "Numpyのbincount関数で確認できる。\n",
    "配列内の各値の出現回数を数える。"
   ]
  },
  {
   "cell_type": "code",
   "execution_count": 38,
   "metadata": {},
   "outputs": [
    {
     "name": "stdout",
     "output_type": "stream",
     "text": [
      "Labels counts in y : [50 50 50]\n"
     ]
    }
   ],
   "source": [
    "print('Labels counts in y :', np.bincount(y))\n",
    "# もとのデータセットのｙに[0,1,2]がそれぞれ50個ずつあることがわかる"
   ]
  },
  {
   "cell_type": "code",
   "execution_count": 39,
   "metadata": {},
   "outputs": [
    {
     "name": "stdout",
     "output_type": "stream",
     "text": [
      "Labels counts in y : [35 35 35]\n",
      "Labels counts in y : [15 15 15]\n"
     ]
    }
   ],
   "source": [
    "print('Labels counts in y :', np.bincount(y_train))\n",
    "print('Labels counts in y :', np.bincount(y_test))\n",
    "\n",
    "# testセットもtrainセットも同じ比率で分割していることが確認できた"
   ]
  },
  {
   "cell_type": "code",
   "execution_count": 40,
   "metadata": {
    "collapsed": true
   },
   "outputs": [],
   "source": [
    "# 特徴量をスケーリングする\n",
    "from sklearn.preprocessing import StandardScaler\n",
    "sc = StandardScaler()\n",
    "\n",
    "# トレーニングデータの平均と標準偏差を計算\n",
    "# 特徴量ごとに平均と標準偏差を推定している\n",
    "sc.fit(X_train)\n",
    "\n",
    "# 平均と標準偏差を用いて標準化\n",
    "# 推定された平均と標準偏差を使って、トレーニングデータを標準化している\n",
    "# testセットもX_trainの平均と標準偏差を使ってスケーリングしていることに注意\n",
    "X_train_std = sc.transform(X_train)\n",
    "X_test_std = sc.transform(X_test)"
   ]
  },
  {
   "cell_type": "code",
   "execution_count": 41,
   "metadata": {},
   "outputs": [
    {
     "name": "stderr",
     "output_type": "stream",
     "text": [
      "C:\\Users\\masayoshi\\Anaconda3\\lib\\site-packages\\sklearn\\linear_model\\stochastic_gradient.py:117: DeprecationWarning: n_iter parameter is deprecated in 0.19 and will be removed in 0.21. Use max_iter and tol instead.\n",
      "  DeprecationWarning)\n"
     ]
    },
    {
     "data": {
      "text/plain": [
       "Perceptron(alpha=0.0001, class_weight=None, eta0=0.1, fit_intercept=True,\n",
       "      max_iter=None, n_iter=40, n_jobs=1, penalty=None, random_state=1,\n",
       "      shuffle=True, tol=None, verbose=0, warm_start=False)"
      ]
     },
     "execution_count": 41,
     "metadata": {},
     "output_type": "execute_result"
    }
   ],
   "source": [
    "# パーセプトロンモデルで分類する\n",
    "# 1対全(OvR)\n",
    "from sklearn.linear_model import Perceptron\n",
    "\n",
    "# エポック数40、学習率0.1でインスタンス作成\n",
    "ppn = Perceptron(n_iter=40, eta0 = 0.1, random_state=1)# エポックごとにトレーニングデータセットの並び替えを再現できるようにrandom_stateを指定しておく\n",
    "\n",
    "# トレーニングデータをモデルに適合させる\n",
    "ppn.fit(X_train_std, y_train)"
   ]
  },
  {
   "cell_type": "code",
   "execution_count": 42,
   "metadata": {
    "collapsed": true
   },
   "outputs": [],
   "source": [
    "# predicd メソッドを使って予測を行う\n",
    "y_pred = ppn.predict(X_test_std)"
   ]
  },
  {
   "cell_type": "code",
   "execution_count": 43,
   "metadata": {},
   "outputs": [
    {
     "name": "stdout",
     "output_type": "stream",
     "text": [
      "Misclassified samples : 3\n"
     ]
    }
   ],
   "source": [
    "# 誤分類のサンプルの個数を表示させる\n",
    "print('Misclassified samples : %d' % (y_test != y_pred).sum())"
   ]
  },
  {
   "cell_type": "code",
   "execution_count": 44,
   "metadata": {},
   "outputs": [
    {
     "name": "stdout",
     "output_type": "stream",
     "text": [
      "Accuracy :0.93\n"
     ]
    }
   ],
   "source": [
    "#性能指標の計算にはmetricsモジュールを使う\n",
    "from sklearn.metrics import accuracy_score\n",
    "# 分類の正解率を表示\n",
    "print('Accuracy :%.2f' % accuracy_score(y_test, y_pred))"
   ]
  },
  {
   "cell_type": "code",
   "execution_count": 45,
   "metadata": {
    "collapsed": true
   },
   "outputs": [],
   "source": [
    "# 決定領域をプロットするための関数を作る\n",
    "\n",
    "from matplotlib.colors import ListedColormap\n",
    "import matplotlib.pyplot as plt\n",
    "%matplotlib inline\n",
    "\n",
    "def plot_decision_regions(X, y, classifier, test_idx=None, resolution=0.02):\n",
    "    \n",
    "    #マーカーとカラーマップの準備\n",
    "    markers = ('s', 'x', 'o', '^', 'v')\n",
    "    colors = ('red', 'blue', 'lightgreen', 'gray', 'cyan')\n",
    "    cmap = ListedColormap(colors[:len(np.unique(y))])\n",
    "    \n",
    "    # 決定域のプロット\n",
    "    x1_min, x1_max = X[:, 0].min() -1, X[:, 0].max() +1\n",
    "    x2_min, x2_max = X[:, 1].min() -1, X[:, 1].max() +1\n",
    "    \n",
    "    #グリッドポイントの生成\n",
    "    xx1, xx2 = np.meshgrid(np.arange(x1_min, x1_max, resolution),\n",
    "                           np.arange(x2_min, x2_max, resolution))\n",
    "    \n",
    "    #各特徴量を1次元配列に変換して予測を実行\n",
    "    Z = classifier.predict(np.array([xx1.ravel(), xx2.ravel()]).T)\n",
    "    #print(Z)\n",
    "    \n",
    "    # 予測結果をもとにグリッドポイントのデータサイズに変換\n",
    "    Z = Z.reshape(xx1.shape)\n",
    "    \n",
    "    # グリッドポイントの等高線プロット\n",
    "    plt.contourf(xx1, xx2, Z, alpha=0.3, cmap=cmap)\n",
    "    \n",
    "    # 軸の範囲の設定\n",
    "    plt.xlim(xx1.min(), xx1.max())\n",
    "    plt.ylim(xx2.min(), xx2.max())\n",
    "    \n",
    "    # クラスごとにサンプルをプロット\n",
    "    for idx, cl in enumerate(np.unique(y)):\n",
    "        plt.scatter(x = X[ y == cl, 0], y = X[ y == cl, 1],\n",
    "                    alpha=0.8,\n",
    "                    c=colors[idx],\n",
    "                    marker=markers[idx],\n",
    "                    label=cl,\n",
    "                    edgecolor='black')\n",
    "    \n",
    "    #テストサンプルを目立たせる（点を〇で表示）\n",
    "    if test_idx:\n",
    "        #すべてのサンプルをプロット\n",
    "        X_test, y_test, = X[test_idx, :], y[test_idx]\n",
    "        plt.scatter(X_test[:, 0], X_test[:, 1],\n",
    "                    c='',\n",
    "                    edgecolor='black',\n",
    "                    alpha=1.0,\n",
    "                    linewidth=1,\n",
    "                    marker='o',\n",
    "                    s=100,\n",
    "                    label='test set')"
   ]
  },
  {
   "cell_type": "code",
   "execution_count": 46,
   "metadata": {},
   "outputs": [
    {
     "data": {
      "text/plain": [
       "'https://deepage.net/features/numpy-meshgrid.html\\n\\nIn [1]: import numpy as np\\n\\nIn [2]: a = np.array([0, 1, 2])\\n\\nIn [3]: b = np.array([0, 4]) # まずは２つの１次元配列を２つ作る。\\n\\nIn [4]: aa, bb = np.meshgrid(a,b) # 基本的な操作から。\\n\\nIn [5]: aa\\nOut[5]:\\narray([[0, 1, 2],\\n       [0, 1, 2]])\\n\\nIn [6]: bb\\nOut[6]:\\narray([[0, 0, 0],\\n       [4, 4, 4]])\\n\\nIn [7]: c = np.array([0, 9]) # 新たにもう１つ追加する。\\n\\nIn [8]: aaa, bbb, ccc = np.meshgrid(a,b,c) # 3つの軸を持つ配列が３つ生成される。\\n\\nIn [9]: aaa\\nOut[9]:\\narray([[[0, 0],\\n        [1, 1],\\n        [2, 2]],\\n\\n       [[0, 0],\\n        [1, 1],\\n        [2, 2]]])\\n\\nIn [10]: bbb\\nOut[10]:\\narray([[[0, 0],\\n        [0, 0],\\n        [0, 0]],\\n\\n       [[4, 4],\\n        [4, 4],\\n        [4, 4]]])\\n\\nIn [11]: ccc\\nOut[11]:\\narray([[[0, 9],\\n        [0, 9],\\n        [0, 9]],\\n\\n       [[0, 9],\\n        [0, 9],\\n        [0, 9]]])\\n'"
      ]
     },
     "execution_count": 46,
     "metadata": {},
     "output_type": "execute_result"
    }
   ],
   "source": [
    "\"\"\"https://deepage.net/features/numpy-meshgrid.html\n",
    "\n",
    "In [1]: import numpy as np\n",
    "\n",
    "In [2]: a = np.array([0, 1, 2])\n",
    "\n",
    "In [3]: b = np.array([0, 4]) # まずは２つの１次元配列を２つ作る。\n",
    "\n",
    "In [4]: aa, bb = np.meshgrid(a,b) # 基本的な操作から。\n",
    "\n",
    "In [5]: aa\n",
    "Out[5]:\n",
    "array([[0, 1, 2],\n",
    "       [0, 1, 2]])\n",
    "\n",
    "In [6]: bb\n",
    "Out[6]:\n",
    "array([[0, 0, 0],\n",
    "       [4, 4, 4]])\n",
    "\n",
    "In [7]: c = np.array([0, 9]) # 新たにもう１つ追加する。\n",
    "\n",
    "In [8]: aaa, bbb, ccc = np.meshgrid(a,b,c) # 3つの軸を持つ配列が３つ生成される。\n",
    "\n",
    "In [9]: aaa\n",
    "Out[9]:\n",
    "array([[[0, 0],\n",
    "        [1, 1],\n",
    "        [2, 2]],\n",
    "\n",
    "       [[0, 0],\n",
    "        [1, 1],\n",
    "        [2, 2]]])\n",
    "\n",
    "In [10]: bbb\n",
    "Out[10]:\n",
    "array([[[0, 0],\n",
    "        [0, 0],\n",
    "        [0, 0]],\n",
    "\n",
    "       [[4, 4],\n",
    "        [4, 4],\n",
    "        [4, 4]]])\n",
    "\n",
    "In [11]: ccc\n",
    "Out[11]:\n",
    "array([[[0, 9],\n",
    "        [0, 9],\n",
    "        [0, 9]],\n",
    "\n",
    "       [[0, 9],\n",
    "        [0, 9],\n",
    "        [0, 9]]])\n",
    "\"\"\""
   ]
  },
  {
   "cell_type": "code",
   "execution_count": 47,
   "metadata": {},
   "outputs": [
    {
     "data": {
      "text/plain": [
       "'\\nimport numpy as np\\n\\n# サンプルデータ生成(3 × 3）\\n> x = np.arange(9).reshape(3, 3)\\n\\n# 表示\\n> x\\n\\narray([[0, 1, 2],\\n       [3, 4, 5],\\n       [6, 7, 8]])\\n\\n# 方法1\\n> x.reshape(-1,)\\n\\narray([0, 1, 2, 3, 4, 5, 6, 7, 8])\\n\\n\\n# 方法2\\n> np.ravel(x)\\n\\narray([0, 1, 2, 3, 4, 5, 6, 7, 8])\\n'"
      ]
     },
     "execution_count": 47,
     "metadata": {},
     "output_type": "execute_result"
    }
   ],
   "source": [
    "\"\"\"\n",
    "import numpy as np\n",
    "\n",
    "# サンプルデータ生成(3 × 3）\n",
    "> x = np.arange(9).reshape(3, 3)\n",
    "\n",
    "# 表示\n",
    "> x\n",
    "\n",
    "array([[0, 1, 2],\n",
    "       [3, 4, 5],\n",
    "       [6, 7, 8]])\n",
    "\n",
    "# 方法1\n",
    "> x.reshape(-1,)\n",
    "\n",
    "array([0, 1, 2, 3, 4, 5, 6, 7, 8])\n",
    "\n",
    "\n",
    "# 方法2\n",
    "> np.ravel(x)\n",
    "\n",
    "array([0, 1, 2, 3, 4, 5, 6, 7, 8])\n",
    "\"\"\""
   ]
  },
  {
   "cell_type": "code",
   "execution_count": 48,
   "metadata": {
    "collapsed": true
   },
   "outputs": [],
   "source": [
    "# トレーニングデータとテストデータの特徴量を行方向に結合\n",
    "X_combind_std = np.vstack((X_train_std, X_test_std) )"
   ]
  },
  {
   "cell_type": "code",
   "execution_count": 49,
   "metadata": {
    "collapsed": true
   },
   "outputs": [],
   "source": [
    "# トレーニングデータとテストデータのクラスラベルを結合\n",
    "y_combind = np.hstack((y_train, y_test)) "
   ]
  },
  {
   "cell_type": "code",
   "execution_count": 50,
   "metadata": {},
   "outputs": [
    {
     "data": {
      "text/plain": [
       "array([[-1.33269725, -1.30380366],\n",
       "       [-1.16537974, -1.30380366],\n",
       "       [ 0.84243039,  1.44465434],\n",
       "       [ 1.0655204 ,  1.18289644],\n",
       "       [-1.44424226, -1.30380366],\n",
       "       [ 1.0097479 ,  1.57553329],\n",
       "       [ 1.56747294,  1.18289644],\n",
       "       [-1.44424226, -1.30380366],\n",
       "       [ 1.12129291,  0.52850167],\n",
       "       [ 0.45202286,  0.13586482],\n",
       "       [-0.27301968, -0.25677204],\n",
       "       [ 0.06161534,  0.26674377],\n",
       "       [-1.38846976, -1.30380366],\n",
       "       [ 0.50779537,  0.00498586],\n",
       "       [ 0.11738784,  0.13586482],\n",
       "       [ 0.73088538,  0.92113853],\n",
       "       [-1.05383474, -1.30380366],\n",
       "       [-0.16147468, -0.25677204],\n",
       "       [ 0.06161534,  0.00498586],\n",
       "       [-1.22115225, -1.30380366],\n",
       "       [ 0.56356787,  0.79025958],\n",
       "       [ 1.73479045,  1.44465434],\n",
       "       [ 0.39625036,  0.39762272],\n",
       "       [ 0.39625036,  0.13586482],\n",
       "       [ 0.00584283, -0.12589309],\n",
       "       [ 1.0097479 ,  1.57553329],\n",
       "       [ 0.50779537,  0.26674377],\n",
       "       [ 1.0097479 ,  0.26674377],\n",
       "       [ 1.12129291,  1.31377539],\n",
       "       [ 0.73088538,  1.57553329],\n",
       "       [ 0.17316034,  0.13586482],\n",
       "       [-1.27692475, -1.04204575],\n",
       "       [ 1.62324544,  1.31377539],\n",
       "       [ 0.67511288,  0.92113853],\n",
       "       [ 0.56356787,  0.79025958],\n",
       "       [ 1.0097479 ,  1.18289644],\n",
       "       [ 0.22893285,  0.39762272],\n",
       "       [ 1.62324544,  1.05201748],\n",
       "       [ 0.9539754 ,  0.79025958],\n",
       "       [-1.22115225, -1.30380366],\n",
       "       [ 0.61934037,  0.79025958],\n",
       "       [-1.33269725, -1.30380366],\n",
       "       [ 0.73088538,  0.39762272],\n",
       "       [-1.05383474, -1.04204575],\n",
       "       [-1.55578727, -1.30380366],\n",
       "       [ 0.61934037,  0.39762272],\n",
       "       [-1.27692475, -1.43468261],\n",
       "       [-1.50001477, -1.43468261],\n",
       "       [ 0.9539754 ,  0.79025958],\n",
       "       [ 0.50779537,  0.39762272],\n",
       "       [-1.16537974, -1.17292471],\n",
       "       [-0.16147468, -0.25677204],\n",
       "       [ 0.17316034, -0.25677204],\n",
       "       [-1.27692475, -1.30380366],\n",
       "       [-1.27692475, -1.30380366],\n",
       "       [-1.27692475, -1.30380366],\n",
       "       [-0.04992967, -0.25677204],\n",
       "       [ 1.28861042,  1.70641225],\n",
       "       [-1.38846976, -1.17292471],\n",
       "       [ 0.61934037,  0.39762272],\n",
       "       [-1.38846976, -1.30380366],\n",
       "       [ 0.39625036,  0.52850167],\n",
       "       [ 1.23283791,  0.79025958],\n",
       "       [-1.22115225, -1.30380366],\n",
       "       [-1.33269725, -1.30380366],\n",
       "       [ 0.34047786,  0.00498586],\n",
       "       [ 0.73088538,  0.92113853],\n",
       "       [-0.10570217,  0.13586482],\n",
       "       [ 0.17316034,  0.13586482],\n",
       "       [ 0.56356787,  0.79025958],\n",
       "       [ 1.28861042,  1.44465434],\n",
       "       [ 0.39625036,  0.39762272],\n",
       "       [ 0.39625036,  0.39762272],\n",
       "       [ 0.89820289,  1.18289644],\n",
       "       [ 1.0097479 ,  1.31377539],\n",
       "       [ 0.45202286,  0.26674377],\n",
       "       [-1.27692475, -1.04204575],\n",
       "       [-1.16537974, -0.9111668 ],\n",
       "       [ 1.28861042,  0.92113853],\n",
       "       [ 0.73088538,  0.52850167],\n",
       "       [ 1.45592793,  1.05201748],\n",
       "       [ 0.67511288,  0.39762272],\n",
       "       [-1.27692475, -1.30380366],\n",
       "       [ 0.22893285,  0.13586482],\n",
       "       [ 0.73088538,  1.05201748],\n",
       "       [ 1.23283791,  1.70641225],\n",
       "       [-1.27692475, -1.17292471],\n",
       "       [-1.33269725, -1.30380366],\n",
       "       [ 1.0097479 ,  0.79025958],\n",
       "       [-1.33269725, -1.17292471],\n",
       "       [ 1.17706541,  1.44465434],\n",
       "       [ 0.06161534, -0.12589309],\n",
       "       [ 0.22893285,  0.00498586],\n",
       "       [ 0.28470535,  0.13586482],\n",
       "       [-1.27692475, -1.43468261],\n",
       "       [ 0.78665788,  1.44465434],\n",
       "       [ 0.34047786,  0.13586482],\n",
       "       [-1.38846976, -1.30380366],\n",
       "       [-1.33269725, -1.17292471],\n",
       "       [ 0.67511288,  0.65938063],\n",
       "       [-1.38846976, -1.17292471],\n",
       "       [ 0.11738784,  0.00498586],\n",
       "       [-1.22115225, -1.04204575],\n",
       "       [-1.27692475, -1.30380366],\n",
       "       [-1.38846976, -1.30380366],\n",
       "       [ 0.89820289,  1.44465434],\n",
       "       [-1.16537974, -1.04204575],\n",
       "       [-1.33269725, -1.17292471],\n",
       "       [ 0.39625036,  0.65938063],\n",
       "       [ 0.34047786,  0.26674377],\n",
       "       [ 0.11738784,  0.13586482],\n",
       "       [ 1.12129291,  0.79025958],\n",
       "       [ 0.39625036,  0.39762272],\n",
       "       [ 0.84243039,  0.92113853],\n",
       "       [-1.38846976, -1.04204575],\n",
       "       [-1.27692475, -1.04204575],\n",
       "       [ 0.61934037,  0.79025958],\n",
       "       [-1.33269725, -1.30380366],\n",
       "       [-0.27301968, -0.25677204],\n",
       "       [-1.33269725, -1.30380366],\n",
       "       [ 0.56356787,  0.26674377],\n",
       "       [ 0.73088538,  1.44465434],\n",
       "       [ 0.39625036,  0.39762272],\n",
       "       [ 0.28470535,  0.13586482],\n",
       "       [ 0.78665788,  1.05201748],\n",
       "       [ 1.17706541,  1.18289644],\n",
       "       [-1.33269725, -1.43468261],\n",
       "       [ 0.34047786,  0.26674377],\n",
       "       [ 0.61934037,  1.05201748],\n",
       "       [ 0.22893285,  0.13586482],\n",
       "       [ 0.50779537,  0.52850167],\n",
       "       [-0.4403372 , -0.12589309],\n",
       "       [ 1.0655204 ,  1.70641225],\n",
       "       [-1.22115225, -0.78028785],\n",
       "       [ 0.67511288,  1.05201748],\n",
       "       [-1.22115225, -1.30380366],\n",
       "       [-1.33269725, -1.30380366],\n",
       "       [ 0.11738784, -0.25677204],\n",
       "       [ 0.11738784,  0.13586482],\n",
       "       [ 1.40015543,  0.79025958],\n",
       "       [ 0.9539754 ,  1.18289644],\n",
       "       [-1.27692475, -1.43468261],\n",
       "       [-1.22115225, -1.30380366],\n",
       "       [-1.33269725, -1.30380366],\n",
       "       [ 0.50779537,  0.26674377],\n",
       "       [ 1.0655204 ,  1.44465434],\n",
       "       [ 0.73088538,  0.79025958],\n",
       "       [ 0.45202286,  0.39762272],\n",
       "       [-1.27692475, -1.30380366],\n",
       "       [-1.27692475, -1.43468261]])"
      ]
     },
     "execution_count": 50,
     "metadata": {},
     "output_type": "execute_result"
    }
   ],
   "source": [
    "X_combind_std"
   ]
  },
  {
   "cell_type": "code",
   "execution_count": 51,
   "metadata": {},
   "outputs": [
    {
     "data": {
      "text/plain": [
       "array([0, 0, 2, 2, 0, 2, 2, 0, 2, 1, 1, 1, 0, 1, 1, 2, 0, 1, 1, 0, 2, 2, 1,\n",
       "       1, 1, 2, 1, 2, 2, 2, 1, 0, 2, 2, 2, 2, 1, 2, 2, 0, 2, 0, 2, 0, 0, 1,\n",
       "       0, 0, 2, 1, 0, 1, 1, 0, 0, 0, 1, 2, 0, 1, 0, 1, 2, 0, 0, 1, 2, 1, 1,\n",
       "       1, 2, 1, 1, 2, 2, 1, 0, 0, 2, 1, 2, 2, 0, 1, 2, 2, 0, 0, 2, 0, 2, 1,\n",
       "       1, 1, 0, 2, 1, 0, 0, 1, 0, 1, 0, 0, 0, 2, 0, 0, 2, 1, 1, 2, 1, 2, 0,\n",
       "       0, 2, 0, 1, 0, 1, 2, 1, 1, 2, 2, 0, 1, 2, 1, 1, 1, 2, 0, 2, 0, 0, 1,\n",
       "       1, 2, 2, 0, 0, 0, 1, 2, 2, 1, 0, 0])"
      ]
     },
     "execution_count": 51,
     "metadata": {},
     "output_type": "execute_result"
    }
   ],
   "source": [
    "y_combind"
   ]
  },
  {
   "cell_type": "code",
   "execution_count": 52,
   "metadata": {},
   "outputs": [
    {
     "data": {
      "image/png": "[encoded data removed]",
      "text/plain": [
       "<matplotlib.figure.Figure at 0x205cf27be10>"
      ]
     },
     "metadata": {},
     "output_type": "display_data"
    }
   ],
   "source": [
    "# 決定境界のプロット\n",
    "plot_decision_regions(X=X_combind_std, y=y_combind, classifier=ppn, test_idx=range(105,150))\n",
    "\n",
    "#軸ラベルの設定\n",
    "plt.xlabel('petal length [standardized]')\n",
    "plt.ylabel('petal width [standardized]')\n",
    "\n",
    "#凡例の設定（左上）\n",
    "plt.legend(loc='upper left')\n",
    "\n",
    "# グラフの表示\n",
    "plt.tight_layout()\n",
    "plt.show()"
   ]
  },
  {
   "cell_type": "markdown",
   "metadata": {},
   "source": [
    "3つの品種を線形の決定境界で完全に区切ることはできない。\n",
    "\n",
    "パーセプトロンアルゴリズムは完全な線形分離が不可能なデータセットでは決して収束しない。\n",
    "そのため、実務のデータ解析で推奨されない。"
   ]
  },
  {
   "cell_type": "code",
   "execution_count": 53,
   "metadata": {},
   "outputs": [
    {
     "name": "stdout",
     "output_type": "stream",
     "text": [
      "Help on class Perceptron in module sklearn.linear_model.perceptron:\n",
      "\n",
      "class Perceptron(sklearn.linear_model.stochastic_gradient.BaseSGDClassifier)\n",
      " |  Perceptron\n",
      " |  \n",
      " |  Read more in the :ref:`User Guide <perceptron>`.\n",
      " |  \n",
      " |  Parameters\n",
      " |  ----------\n",
      " |  \n",
      " |  penalty : None, 'l2' or 'l1' or 'elasticnet'\n",
      " |      The penalty (aka regularization term) to be used. Defaults to None.\n",
      " |  \n",
      " |  alpha : float\n",
      " |      Constant that multiplies the regularization term if regularization is\n",
      " |      used. Defaults to 0.0001\n",
      " |  \n",
      " |  fit_intercept : bool\n",
      " |      Whether the intercept should be estimated or not. If False, the\n",
      " |      data is assumed to be already centered. Defaults to True.\n",
      " |  \n",
      " |  max_iter : int, optional\n",
      " |      The maximum number of passes over the training data (aka epochs).\n",
      " |      It only impacts the behavior in the ``fit`` method, and not the\n",
      " |      `partial_fit`.\n",
      " |      Defaults to 5. Defaults to 1000 from 0.21, or if tol is not None.\n",
      " |  \n",
      " |      .. versionadded:: 0.19\n",
      " |  \n",
      " |  tol : float or None, optional\n",
      " |      The stopping criterion. If it is not None, the iterations will stop\n",
      " |      when (loss > previous_loss - tol). Defaults to None.\n",
      " |      Defaults to 1e-3 from 0.21.\n",
      " |  \n",
      " |      .. versionadded:: 0.19\n",
      " |  \n",
      " |  shuffle : bool, optional, default True\n",
      " |      Whether or not the training data should be shuffled after each epoch.\n",
      " |  \n",
      " |  verbose : integer, optional\n",
      " |      The verbosity level\n",
      " |  \n",
      " |  eta0 : double\n",
      " |      Constant by which the updates are multiplied. Defaults to 1.\n",
      " |  \n",
      " |  n_jobs : integer, optional\n",
      " |      The number of CPUs to use to do the OVA (One Versus All, for\n",
      " |      multi-class problems) computation. -1 means 'all CPUs'. Defaults\n",
      " |      to 1.\n",
      " |  \n",
      " |  random_state : int, RandomState instance or None, optional, default None\n",
      " |      The seed of the pseudo random number generator to use when shuffling\n",
      " |      the data.  If int, random_state is the seed used by the random number\n",
      " |      generator; If RandomState instance, random_state is the random number\n",
      " |      generator; If None, the random number generator is the RandomState\n",
      " |      instance used by `np.random`.\n",
      " |  \n",
      " |  class_weight : dict, {class_label: weight} or \"balanced\" or None, optional\n",
      " |      Preset for the class_weight fit parameter.\n",
      " |  \n",
      " |      Weights associated with classes. If not given, all classes\n",
      " |      are supposed to have weight one.\n",
      " |  \n",
      " |      The \"balanced\" mode uses the values of y to automatically adjust\n",
      " |      weights inversely proportional to class frequencies in the input data\n",
      " |      as ``n_samples / (n_classes * np.bincount(y))``\n",
      " |  \n",
      " |  warm_start : bool, optional\n",
      " |      When set to True, reuse the solution of the previous call to fit as\n",
      " |      initialization, otherwise, just erase the previous solution.\n",
      " |  \n",
      " |  n_iter : int, optional\n",
      " |      The number of passes over the training data (aka epochs).\n",
      " |      Defaults to None. Deprecated, will be removed in 0.21.\n",
      " |  \n",
      " |      .. versionchanged:: 0.19\n",
      " |          Deprecated\n",
      " |  \n",
      " |  Attributes\n",
      " |  ----------\n",
      " |  coef_ : array, shape = [1, n_features] if n_classes == 2 else [n_classes,            n_features]\n",
      " |      Weights assigned to the features.\n",
      " |  \n",
      " |  intercept_ : array, shape = [1] if n_classes == 2 else [n_classes]\n",
      " |      Constants in decision function.\n",
      " |  \n",
      " |  n_iter_ : int\n",
      " |      The actual number of iterations to reach the stopping criterion.\n",
      " |      For multiclass fits, it is the maximum over every binary fit.\n",
      " |  \n",
      " |  Notes\n",
      " |  -----\n",
      " |  \n",
      " |  `Perceptron` and `SGDClassifier` share the same underlying implementation.\n",
      " |  In fact, `Perceptron()` is equivalent to `SGDClassifier(loss=\"perceptron\",\n",
      " |  eta0=1, learning_rate=\"constant\", penalty=None)`.\n",
      " |  \n",
      " |  See also\n",
      " |  --------\n",
      " |  \n",
      " |  SGDClassifier\n",
      " |  \n",
      " |  References\n",
      " |  ----------\n",
      " |  \n",
      " |  https://en.wikipedia.org/wiki/Perceptron and references therein.\n",
      " |  \n",
      " |  Method resolution order:\n",
      " |      Perceptron\n",
      " |      sklearn.linear_model.stochastic_gradient.BaseSGDClassifier\n",
      " |      abc.NewBase\n",
      " |      sklearn.linear_model.stochastic_gradient.BaseSGD\n",
      " |      abc.NewBase\n",
      " |      sklearn.base.BaseEstimator\n",
      " |      sklearn.linear_model.base.SparseCoefMixin\n",
      " |      sklearn.linear_model.base.LinearClassifierMixin\n",
      " |      sklearn.base.ClassifierMixin\n",
      " |      builtins.object\n",
      " |  \n",
      " |  Methods defined here:\n",
      " |  \n",
      " |  __init__(self, penalty=None, alpha=0.0001, fit_intercept=True, max_iter=None, tol=None, shuffle=True, verbose=0, eta0=1.0, n_jobs=1, random_state=0, class_weight=None, warm_start=False, n_iter=None)\n",
      " |      Initialize self.  See help(type(self)) for accurate signature.\n",
      " |  \n",
      " |  ----------------------------------------------------------------------\n",
      " |  Data and other attributes defined here:\n",
      " |  \n",
      " |  __abstractmethods__ = frozenset()\n",
      " |  \n",
      " |  ----------------------------------------------------------------------\n",
      " |  Methods inherited from sklearn.linear_model.stochastic_gradient.BaseSGDClassifier:\n",
      " |  \n",
      " |  fit(self, X, y, coef_init=None, intercept_init=None, sample_weight=None)\n",
      " |      Fit linear model with Stochastic Gradient Descent.\n",
      " |      \n",
      " |      Parameters\n",
      " |      ----------\n",
      " |      X : {array-like, sparse matrix}, shape (n_samples, n_features)\n",
      " |          Training data\n",
      " |      \n",
      " |      y : numpy array, shape (n_samples,)\n",
      " |          Target values\n",
      " |      \n",
      " |      coef_init : array, shape (n_classes, n_features)\n",
      " |          The initial coefficients to warm-start the optimization.\n",
      " |      \n",
      " |      intercept_init : array, shape (n_classes,)\n",
      " |          The initial intercept to warm-start the optimization.\n",
      " |      \n",
      " |      sample_weight : array-like, shape (n_samples,), optional\n",
      " |          Weights applied to individual samples.\n",
      " |          If not provided, uniform weights are assumed. These weights will\n",
      " |          be multiplied with class_weight (passed through the\n",
      " |          constructor) if class_weight is specified\n",
      " |      \n",
      " |      Returns\n",
      " |      -------\n",
      " |      self : returns an instance of self.\n",
      " |  \n",
      " |  partial_fit(self, X, y, classes=None, sample_weight=None)\n",
      " |      Fit linear model with Stochastic Gradient Descent.\n",
      " |      \n",
      " |      Parameters\n",
      " |      ----------\n",
      " |      X : {array-like, sparse matrix}, shape (n_samples, n_features)\n",
      " |          Subset of the training data\n",
      " |      \n",
      " |      y : numpy array, shape (n_samples,)\n",
      " |          Subset of the target values\n",
      " |      \n",
      " |      classes : array, shape (n_classes,)\n",
      " |          Classes across all calls to partial_fit.\n",
      " |          Can be obtained by via `np.unique(y_all)`, where y_all is the\n",
      " |          target vector of the entire dataset.\n",
      " |          This argument is required for the first call to partial_fit\n",
      " |          and can be omitted in the subsequent calls.\n",
      " |          Note that y doesn't need to contain all labels in `classes`.\n",
      " |      \n",
      " |      sample_weight : array-like, shape (n_samples,), optional\n",
      " |          Weights applied to individual samples.\n",
      " |          If not provided, uniform weights are assumed.\n",
      " |      \n",
      " |      Returns\n",
      " |      -------\n",
      " |      self : returns an instance of self.\n",
      " |  \n",
      " |  ----------------------------------------------------------------------\n",
      " |  Data descriptors inherited from sklearn.linear_model.stochastic_gradient.BaseSGDClassifier:\n",
      " |  \n",
      " |  loss_function\n",
      " |      DEPRECATED: Attribute loss_function was deprecated in version 0.19 and will be removed in 0.21. Use ``loss_function_`` instead\n",
      " |  \n",
      " |  ----------------------------------------------------------------------\n",
      " |  Data and other attributes inherited from sklearn.linear_model.stochastic_gradient.BaseSGDClassifier:\n",
      " |  \n",
      " |  loss_functions = {'epsilon_insensitive': (<class 'sklearn.linear_model...\n",
      " |  \n",
      " |  ----------------------------------------------------------------------\n",
      " |  Methods inherited from sklearn.linear_model.stochastic_gradient.BaseSGD:\n",
      " |  \n",
      " |  set_params(self, *args, **kwargs)\n",
      " |      Set the parameters of this estimator.\n",
      " |      \n",
      " |      The method works on simple estimators as well as on nested objects\n",
      " |      (such as pipelines). The latter have parameters of the form\n",
      " |      ``<component>__<parameter>`` so that it's possible to update each\n",
      " |      component of a nested object.\n",
      " |      \n",
      " |      Returns\n",
      " |      -------\n",
      " |      self\n",
      " |  \n",
      " |  ----------------------------------------------------------------------\n",
      " |  Methods inherited from sklearn.base.BaseEstimator:\n",
      " |  \n",
      " |  __getstate__(self)\n",
      " |  \n",
      " |  __repr__(self)\n",
      " |      Return repr(self).\n",
      " |  \n",
      " |  __setstate__(self, state)\n",
      " |  \n",
      " |  get_params(self, deep=True)\n",
      " |      Get parameters for this estimator.\n",
      " |      \n",
      " |      Parameters\n",
      " |      ----------\n",
      " |      deep : boolean, optional\n",
      " |          If True, will return the parameters for this estimator and\n",
      " |          contained subobjects that are estimators.\n",
      " |      \n",
      " |      Returns\n",
      " |      -------\n",
      " |      params : mapping of string to any\n",
      " |          Parameter names mapped to their values.\n",
      " |  \n",
      " |  ----------------------------------------------------------------------\n",
      " |  Data descriptors inherited from sklearn.base.BaseEstimator:\n",
      " |  \n",
      " |  __dict__\n",
      " |      dictionary for instance variables (if defined)\n",
      " |  \n",
      " |  __weakref__\n",
      " |      list of weak references to the object (if defined)\n",
      " |  \n",
      " |  ----------------------------------------------------------------------\n",
      " |  Methods inherited from sklearn.linear_model.base.SparseCoefMixin:\n",
      " |  \n",
      " |  densify(self)\n",
      " |      Convert coefficient matrix to dense array format.\n",
      " |      \n",
      " |      Converts the ``coef_`` member (back) to a numpy.ndarray. This is the\n",
      " |      default format of ``coef_`` and is required for fitting, so calling\n",
      " |      this method is only required on models that have previously been\n",
      " |      sparsified; otherwise, it is a no-op.\n",
      " |      \n",
      " |      Returns\n",
      " |      -------\n",
      " |      self : estimator\n",
      " |  \n",
      " |  sparsify(self)\n",
      " |      Convert coefficient matrix to sparse format.\n",
      " |      \n",
      " |      Converts the ``coef_`` member to a scipy.sparse matrix, which for\n",
      " |      L1-regularized models can be much more memory- and storage-efficient\n",
      " |      than the usual numpy.ndarray representation.\n",
      " |      \n",
      " |      The ``intercept_`` member is not converted.\n",
      " |      \n",
      " |      Notes\n",
      " |      -----\n",
      " |      For non-sparse models, i.e. when there are not many zeros in ``coef_``,\n",
      " |      this may actually *increase* memory usage, so use this method with\n",
      " |      care. A rule of thumb is that the number of zero elements, which can\n",
      " |      be computed with ``(coef_ == 0).sum()``, must be more than 50% for this\n",
      " |      to provide significant benefits.\n",
      " |      \n",
      " |      After calling this method, further fitting with the partial_fit\n",
      " |      method (if any) will not work until you call densify.\n",
      " |      \n",
      " |      Returns\n",
      " |      -------\n",
      " |      self : estimator\n",
      " |  \n",
      " |  ----------------------------------------------------------------------\n",
      " |  Methods inherited from sklearn.linear_model.base.LinearClassifierMixin:\n",
      " |  \n",
      " |  decision_function(self, X)\n",
      " |      Predict confidence scores for samples.\n",
      " |      \n",
      " |      The confidence score for a sample is the signed distance of that\n",
      " |      sample to the hyperplane.\n",
      " |      \n",
      " |      Parameters\n",
      " |      ----------\n",
      " |      X : {array-like, sparse matrix}, shape = (n_samples, n_features)\n",
      " |          Samples.\n",
      " |      \n",
      " |      Returns\n",
      " |      -------\n",
      " |      array, shape=(n_samples,) if n_classes == 2 else (n_samples, n_classes)\n",
      " |          Confidence scores per (sample, class) combination. In the binary\n",
      " |          case, confidence score for self.classes_[1] where >0 means this\n",
      " |          class would be predicted.\n",
      " |  \n",
      " |  predict(self, X)\n",
      " |      Predict class labels for samples in X.\n",
      " |      \n",
      " |      Parameters\n",
      " |      ----------\n",
      " |      X : {array-like, sparse matrix}, shape = [n_samples, n_features]\n",
      " |          Samples.\n",
      " |      \n",
      " |      Returns\n",
      " |      -------\n",
      " |      C : array, shape = [n_samples]\n",
      " |          Predicted class label per sample.\n",
      " |  \n",
      " |  ----------------------------------------------------------------------\n",
      " |  Methods inherited from sklearn.base.ClassifierMixin:\n",
      " |  \n",
      " |  score(self, X, y, sample_weight=None)\n",
      " |      Returns the mean accuracy on the given test data and labels.\n",
      " |      \n",
      " |      In multi-label classification, this is the subset accuracy\n",
      " |      which is a harsh metric since you require for each sample that\n",
      " |      each label set be correctly predicted.\n",
      " |      \n",
      " |      Parameters\n",
      " |      ----------\n",
      " |      X : array-like, shape = (n_samples, n_features)\n",
      " |          Test samples.\n",
      " |      \n",
      " |      y : array-like, shape = (n_samples) or (n_samples, n_outputs)\n",
      " |          True labels for X.\n",
      " |      \n",
      " |      sample_weight : array-like, shape = [n_samples], optional\n",
      " |          Sample weights.\n",
      " |      \n",
      " |      Returns\n",
      " |      -------\n",
      " |      score : float\n",
      " |          Mean accuracy of self.predict(X) wrt. y.\n",
      "\n"
     ]
    }
   ],
   "source": [
    "help(Perceptron)"
   ]
  },
  {
   "cell_type": "markdown",
   "metadata": {},
   "source": [
    "# シグモイド関数"
   ]
  },
  {
   "cell_type": "code",
   "execution_count": 54,
   "metadata": {},
   "outputs": [
    {
     "data": {
      "image/png": "[encoded data removed]",
      "text/plain": [
       "<matplotlib.figure.Figure at 0x205cf1a8908>"
      ]
     },
     "metadata": {},
     "output_type": "display_data"
    }
   ],
   "source": [
    "import matplotlib.pyplot as plt\n",
    "import numpy as np\n",
    "# シグモイド関数を定義\n",
    "def sigmoid(z):\n",
    "    return 1.0 / (1.0 + np.exp(-z))\n",
    "\n",
    "# 0.1間隔で-7以上、7未満のデータを生成\n",
    "z = np.arange(-7, 7, 0.1)\n",
    "\n",
    "#生成したシグモイド関数を実行\n",
    "phi_z = sigmoid(z)\n",
    "\n",
    "# 元のデータとシグモイド関数の出力をプロット\n",
    "plt.plot(z, phi_z)\n",
    "\n",
    "# 垂直線を追加\n",
    "plt.axvline(0.0, color='k')\n",
    "\n",
    "# y軸の上限下限を設定\n",
    "plt.ylim(-0.1, 1.1)\n",
    "\n",
    "# 軸のラベルを設定\n",
    "plt.xlabel('z')\n",
    "plt.ylabel('$\\phi (z)$')\n",
    "\n",
    "# y軸のメモリを追加\n",
    "plt.yticks([0.0, 0.5, 1.0])\n",
    "\n",
    "# Axesクラスのオブジェクトの取得\n",
    "ax = plt.gca()\n",
    "\n",
    "# y軸の目盛りに合わせて水平グリッド線を追加\n",
    "ax.yaxis.grid(True)\n",
    "\n",
    "# グラフを表示\n",
    "plt.tight_layout()\n",
    "plt.show()"
   ]
  },
  {
   "cell_type": "markdown",
   "metadata": {},
   "source": [
    "# 対数尤度関数"
   ]
  },
  {
   "cell_type": "code",
   "execution_count": 55,
   "metadata": {
    "collapsed": true
   },
   "outputs": [],
   "source": [
    "# sample = 1\n",
    "\n",
    "# y=1のコストを計算する関数\n",
    "def cost_1(z):\n",
    "    return -np.log(sigmoid(z))\n",
    "\n",
    "# y=0のコストを計算する関数\n",
    "def cost_0(z):\n",
    "    return -np.log(1 - sigmoid(z))"
   ]
  },
  {
   "cell_type": "code",
   "execution_count": 56,
   "metadata": {},
   "outputs": [
    {
     "data": {
      "image/png": "[encoded data removed]",
      "text/plain": [
       "<matplotlib.figure.Figure at 0x205d045b048>"
      ]
     },
     "metadata": {},
     "output_type": "display_data"
    }
   ],
   "source": [
    "# 0.1間隔で―10以上10未満のデータを生成\n",
    "z = np.arange(-10, 10, 0.1)\n",
    "# シグモイド関数を実行\n",
    "phi_z = sigmoid(z)\n",
    "# y=1のコストを計算する関数を実行\n",
    "c1 = [cost_1(x) for x in z]\n",
    "# 結果をプロット\n",
    "plt.plot(phi_z, c1, label='J(w) if y=1')\n",
    "# y=0のコストを計算する関数を実行\n",
    "c0 = [cost_0(x) for x in z]\n",
    "# 結果をプロット\n",
    "plt.plot(phi_z, c0, linestyle='--', label='J(w) if y=0')\n",
    "# x軸とy軸の上限/下限を設定\n",
    "plt.ylim(0.0, 5.1)\n",
    "plt.xlim([0,1])\n",
    "#軸のラベルを設定\n",
    "plt.xlabel('$\\phi$(z)')\n",
    "plt.ylabel('J(w)')\n",
    "#凡例を設定\n",
    "plt.legend(loc = 'upper center')\n",
    "#グラフを表示\n",
    "plt.tight_layout()\n",
    "plt.show()"
   ]
  },
  {
   "cell_type": "code",
   "execution_count": 57,
   "metadata": {},
   "outputs": [
    {
     "data": {
      "image/png": "[encoded data removed]",
      "text/plain": [
       "<matplotlib.figure.Figure at 0x205cf1962e8>"
      ]
     },
     "metadata": {},
     "output_type": "display_data"
    }
   ],
   "source": [
    "# ADLINE実装をロジスティック回帰のアルゴリズムに変換する\n",
    "# コスト関数Jをロジスティック回帰のコスト関数Jに置き換えるだけでよい\n",
    "# scilit-learnで実装してみる\n",
    "\n",
    "from sklearn.linear_model import LogisticRegression\n",
    "#ロジスティック回帰のインスタンスを生成\n",
    "lr = LogisticRegression(C=100.0, random_state=1)\n",
    "# トレーニングデータをモデルに適合させる\n",
    "lr.fit(X_train_std, y_train)\n",
    "#決定境界をプロット\n",
    "plot_decision_regions(X_combind_std, y_combind, classifier=lr,\n",
    "                     test_idx=range(105, 150))\n",
    "\n",
    "#軸ラベルを設定\n",
    "plt.xlabel('petal length [standardized]')\n",
    "plt.ylabel('petal width [standardized]')\n",
    "#凡例を設定\n",
    "plt.legend(loc = 'upper left')\n",
    "\n",
    "#グラフを表示\n",
    "plt.tight_layout()\n",
    "plt.show()"
   ]
  },
  {
   "cell_type": "code",
   "execution_count": 58,
   "metadata": {},
   "outputs": [
    {
     "data": {
      "text/plain": [
       "array([[  3.20136878e-08,   1.46953648e-01,   8.53046320e-01],\n",
       "       [  8.34428069e-01,   1.65571931e-01,   4.57896429e-12],\n",
       "       [  8.49182775e-01,   1.50817225e-01,   4.65678779e-13]])"
      ]
     },
     "execution_count": 58,
     "metadata": {},
     "output_type": "execute_result"
    }
   ],
   "source": [
    "lr.predict_proba(X_test_std[:3, :])"
   ]
  },
  {
   "cell_type": "code",
   "execution_count": 59,
   "metadata": {},
   "outputs": [
    {
     "data": {
      "text/plain": [
       "array([ 1.,  1.,  1.])"
      ]
     },
     "execution_count": 59,
     "metadata": {},
     "output_type": "execute_result"
    }
   ],
   "source": [
    "lr.predict_proba(X_test_std[:3, :]).sum(axis=1)"
   ]
  },
  {
   "cell_type": "code",
   "execution_count": 60,
   "metadata": {},
   "outputs": [
    {
     "data": {
      "text/plain": [
       "array([2, 0, 0], dtype=int64)"
      ]
     },
     "execution_count": 60,
     "metadata": {},
     "output_type": "execute_result"
    }
   ],
   "source": [
    "#クラスラベルの予測値を取得するには、各行において最も大きい列を特定すればよい\n",
    "lr.predict_proba(X_test_std[:3, :]).argmax(axis=1)"
   ]
  },
  {
   "cell_type": "code",
   "execution_count": 61,
   "metadata": {},
   "outputs": [
    {
     "data": {
      "text/plain": [
       "array([2, 0, 0])"
      ]
     },
     "execution_count": 61,
     "metadata": {},
     "output_type": "execute_result"
    }
   ],
   "source": [
    "lr.predict(X_test_std[:3, :])"
   ]
  },
  {
   "cell_type": "code",
   "execution_count": 62,
   "metadata": {},
   "outputs": [
    {
     "data": {
      "text/plain": [
       "array([2])"
      ]
     },
     "execution_count": 62,
     "metadata": {},
     "output_type": "execute_result"
    }
   ],
   "source": [
    "lr.predict(X_test_std[0,:].reshape(1,-1))"
   ]
  },
  {
   "cell_type": "code",
   "execution_count": 63,
   "metadata": {},
   "outputs": [
    {
     "data": {
      "image/png": "[encoded data removed]",
      "text/plain": [
       "<matplotlib.figure.Figure at 0x205d0547b00>"
      ]
     },
     "metadata": {},
     "output_type": "display_data"
    }
   ],
   "source": [
    "#空のリストを生成（重み係数、逆正則化パラメータ）\n",
    "weights, params =[],[]\n",
    "#10個の逆正則化パラメータに対応するロジスティック回帰モデルをそれぞれ処理\n",
    "for c in np.arange(-5, 5):\n",
    "    lr = LogisticRegression(C=10.**c, random_state=1)\n",
    "    lr.fit(X_train_std, y_train)\n",
    "    #重み係数を格納\n",
    "    weights.append(lr.coef_[1])\n",
    "    #逆正則化パラメータを格納\n",
    "    params.append(10.**c)\n",
    "\n",
    "#重み係数をNumpy配列に変換\n",
    "weights = np.array(weights)\n",
    "#横軸に逆正則化パラメータ、縦軸に重み係数をプロット\n",
    "plt.plot(params, weights[:,0], label='petal length')\n",
    "plt.plot(params, weights[:,1], linestyle='--', label='petal width')\n",
    "plt.ylabel('weight coefficient')\n",
    "plt.xlabel('C')\n",
    "plt.legend(loc='upper left')\n",
    "\n",
    "#横軸を対数スケールに設定\n",
    "plt.xscale('log')\n",
    "plt.show()"
   ]
  },
  {
   "cell_type": "markdown",
   "metadata": {},
   "source": [
    "# 線形SVM"
   ]
  },
  {
   "cell_type": "code",
   "execution_count": 64,
   "metadata": {},
   "outputs": [
    {
     "data": {
      "image/png": "[encoded data removed]",
      "text/plain": [
       "<matplotlib.figure.Figure at 0x205d04bc748>"
      ]
     },
     "metadata": {},
     "output_type": "display_data"
    }
   ],
   "source": [
    "from sklearn.svm import SVC\n",
    "#線形SVMインスタンスを生成\n",
    "svm = SVC(kernel='linear', C=1.0, random_state=1)\n",
    "#線形SVMのモデルにトレーニングデータを適合させる\n",
    "svm.fit(X_train_std, y_train)\n",
    "plot_decision_regions(X_combind_std, y_combind, classifier=svm, test_idx=range(105, 150))\n",
    "plt.xlabel('petal length [standardized]')\n",
    "plt.ylabel('petal width [standardized]')\n",
    "plt.legend(loc='upper left')\n",
    "plt.tight_layout()\n",
    "plt.show()"
   ]
  },
  {
   "cell_type": "markdown",
   "metadata": {
    "collapsed": true
   },
   "source": [
    "# カーネルSVM\n",
    "## カーネル化によって非線形分類の問題を解くことができる"
   ]
  },
  {
   "cell_type": "code",
   "execution_count": 65,
   "metadata": {},
   "outputs": [
    {
     "data": {
      "image/png": "[encoded data removed]",
      "text/plain": [
       "<matplotlib.figure.Figure at 0x205cf1e2ac8>"
      ]
     },
     "metadata": {},
     "output_type": "display_data"
    }
   ],
   "source": [
    "# XORゲート形式の単純なデータセットを作成する。\n",
    "import matplotlib.pyplot as plt\n",
    "import numpy as np\n",
    "#乱数シード\n",
    "np.random.seed(1)\n",
    "#標準正規分布に従う乱数で200行2列の行列を生成\n",
    "X_xor = np.random.randn(200, 2)\n",
    "# 2つの引数に対して排他的論理和を実行\n",
    "y_xor = np.logical_xor(X_xor[:, 0] > 0, X_xor[:, 1] > 0)\n",
    "# 排他的論理和の値が真の場合は1, 偽の場合は‐1を割り当てる\n",
    "y_xor = np.where(y_xor, 1, -1)\n",
    "# ラベル１を青のxでプロット\n",
    "plt.scatter(X_xor[y_xor==1, 0], X_xor[y_xor==1, 1],\n",
    "           c = 'b', marker='x', label='1')\n",
    "# ラベル-1を赤の四角でプロット\n",
    "plt.scatter(X_xor[y_xor==-1, 0], X_xor[y_xor==-1, 1],\n",
    "            c = 'r', marker='s', label='-1')\n",
    "#軸の範囲を設定\n",
    "plt.xlim([-3, 3])\n",
    "plt.ylim([-3, 3])\n",
    "plt.legend(loc='best')\n",
    "plt.tight_layout()\n",
    "plt.show()"
   ]
  },
  {
   "cell_type": "code",
   "execution_count": 66,
   "metadata": {},
   "outputs": [
    {
     "data": {
      "image/png": "[encoded data removed]",
      "text/plain": [
       "<matplotlib.figure.Figure at 0x205d03f4198>"
      ]
     },
     "metadata": {},
     "output_type": "display_data"
    }
   ],
   "source": [
    "# RBFカーネルによるSVMのインスタンスを生成\n",
    "svm = SVC(kernel = 'rbf', random_state=1, gamma=0.10, C=10.0)\n",
    "svm.fit(X_xor, y_xor)\n",
    "plot_decision_regions(X_xor, y_xor, classifier=svm)\n",
    "plt.legend(loc='upper left')\n",
    "plt.tight_layout()\n",
    "plt.show()"
   ]
  },
  {
   "cell_type": "code",
   "execution_count": 69,
   "metadata": {},
   "outputs": [
    {
     "data": {
      "image/png": "[encoded data removed]",
      "text/plain": [
       "<matplotlib.figure.Figure at 0x205cf286eb8>"
      ]
     },
     "metadata": {},
     "output_type": "display_data"
    }
   ],
   "source": [
    "# RBFカーネルによるSVMのインスタンスを生成（2つのパラメータを変更）\n",
    "svm = SVC(kernel='rbf', random_state=1, gamma=0.2, C=1.0)\n",
    "svm.fit(X_train_std, y_train)\n",
    "plot_decision_regions(X_combind_std, y_combind, classifier=svm, test_idx=range(105, 150))\n",
    "plt.xlabel('petal length [standardized]')\n",
    "plt.ylabel('petal width [standardized]')\n",
    "plt.legend(loc='upper left')\n",
    "plt.tight_layout()\n",
    "plt.show()"
   ]
  },
  {
   "cell_type": "code",
   "execution_count": 71,
   "metadata": {},
   "outputs": [
    {
     "data": {
      "image/png": "[encoded data removed]",
      "text/plain": [
       "<matplotlib.figure.Figure at 0x205cf1b22e8>"
      ]
     },
     "metadata": {},
     "output_type": "display_data"
    }
   ],
   "source": [
    "#RBFカーネルによるSVMによるインスタンスを生成(ガンマパラメータを変更)\n",
    "svm = SVC(kernel='rbf', random_state=1, gamma=100.0, C=1.0)\n",
    "svm.fit(X_train_std, y_train)\n",
    "plot_decision_regions(X_combind_std, y_combind, classifier=svm, test_idx=range(105, 150))\n",
    "plt.xlabel('petal length [standardized]')\n",
    "plt.ylabel('petal width [standardized]')\n",
    "plt.legend(loc='upper left')\n",
    "plt.tight_layout()\n",
    "plt.show()"
   ]
  },
  {
   "cell_type": "code",
   "execution_count": null,
   "metadata": {
    "collapsed": true
   },
   "outputs": [],
   "source": []
  }
 ],
 "metadata": {
  "kernelspec": {
   "display_name": "Python 3",
   "language": "python",
   "name": "python3"
  },
  "language_info": {
   "codemirror_mode": {
    "name": "ipython",
    "version": 3
   },
   "file_extension": ".py",
   "mimetype": "text/x-python",
   "name": "python",
   "nbconvert_exporter": "python",
   "pygments_lexer": "ipython3",
   "version": "3.6.3"
  },
  "toc": {
   "base_numbering": 1,
   "nav_menu": {},
   "number_sections": true,
   "sideBar": true,
   "skip_h1_title": false,
   "title_cell": "Table of Contents",
   "title_sidebar": "Contents",
   "toc_cell": false,
   "toc_position": {},
   "toc_section_display": true,
   "toc_window_display": false
  }
 },
 "nbformat": 4,
 "nbformat_minor": 2
}
